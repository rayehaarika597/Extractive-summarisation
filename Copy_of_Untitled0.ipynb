{
  "nbformat": 4,
  "nbformat_minor": 0,
  "metadata": {
    "colab": {
      "provenance": [],
      "include_colab_link": true
    },
    "kernelspec": {
      "name": "python3",
      "display_name": "Python 3"
    },
    "language_info": {
      "name": "python"
    }
  },
  "cells": [
    {
      "cell_type": "markdown",
      "metadata": {
        "id": "view-in-github",
        "colab_type": "text"
      },
      "source": [
        "<a href=\"https://colab.research.google.com/github/rayehaarika597/Extractive-summarisation/blob/main/Copy_of_Untitled0.ipynb\" target=\"_parent\"><img src=\"https://colab.research.google.com/assets/colab-badge.svg\" alt=\"Open In Colab\"/></a>"
      ]
    },
    {
      "cell_type": "code",
      "source": [
        "!pip install --upgrade scipy networkx"
      ],
      "metadata": {
        "colab": {
          "base_uri": "https://localhost:8080/"
        },
        "id": "TxI-UGSAPnpj",
        "outputId": "d4343ff3-e019-41cc-b220-8dbb5015eb21"
      },
      "execution_count": 7,
      "outputs": [
        {
          "output_type": "stream",
          "name": "stdout",
          "text": [
            "Looking in indexes: https://pypi.org/simple, https://us-python.pkg.dev/colab-wheels/public/simple/\n",
            "Requirement already satisfied: scipy in /usr/local/lib/python3.8/dist-packages (1.7.3)\n",
            "Collecting scipy\n",
            "  Downloading scipy-1.10.1-cp38-cp38-manylinux_2_17_x86_64.manylinux2014_x86_64.whl (34.5 MB)\n",
            "\u001b[2K     \u001b[90m━━━━━━━━━━━━━━━━━━━━━━━━━━━━━━━━━━━━━━━━\u001b[0m \u001b[32m34.5/34.5 MB\u001b[0m \u001b[31m34.3 MB/s\u001b[0m eta \u001b[36m0:00:00\u001b[0m\n",
            "\u001b[?25hRequirement already satisfied: networkx in /usr/local/lib/python3.8/dist-packages (3.0)\n",
            "Requirement already satisfied: numpy<1.27.0,>=1.19.5 in /usr/local/lib/python3.8/dist-packages (from scipy) (1.22.4)\n",
            "Installing collected packages: scipy\n",
            "  Attempting uninstall: scipy\n",
            "    Found existing installation: scipy 1.7.3\n",
            "    Uninstalling scipy-1.7.3:\n",
            "      Successfully uninstalled scipy-1.7.3\n",
            "Successfully installed scipy-1.10.1\n"
          ]
        }
      ]
    },
    {
      "cell_type": "code",
      "source": [
        "!pip install 'networkx<2.7' "
      ],
      "metadata": {
        "colab": {
          "base_uri": "https://localhost:8080/",
          "height": 277
        },
        "id": "BJ_UDsdgP0Vu",
        "outputId": "0a26163a-25f7-4c7b-e477-bfd25c6beb67"
      },
      "execution_count": 9,
      "outputs": [
        {
          "output_type": "stream",
          "name": "stdout",
          "text": [
            "Looking in indexes: https://pypi.org/simple, https://us-python.pkg.dev/colab-wheels/public/simple/\n",
            "Collecting networkx<2.7\n",
            "  Downloading networkx-2.6.3-py3-none-any.whl (1.9 MB)\n",
            "\u001b[2K     \u001b[90m━━━━━━━━━━━━━━━━━━━━━━━━━━━━━━━━━━━━━━━━\u001b[0m \u001b[32m1.9/1.9 MB\u001b[0m \u001b[31m33.8 MB/s\u001b[0m eta \u001b[36m0:00:00\u001b[0m\n",
            "\u001b[?25hInstalling collected packages: networkx\n",
            "  Attempting uninstall: networkx\n",
            "    Found existing installation: networkx 3.0\n",
            "    Uninstalling networkx-3.0:\n",
            "      Successfully uninstalled networkx-3.0\n",
            "Successfully installed networkx-2.6.3\n"
          ]
        },
        {
          "output_type": "display_data",
          "data": {
            "application/vnd.colab-display-data+json": {
              "pip_warning": {
                "packages": [
                  "networkx"
                ]
              }
            }
          },
          "metadata": {}
        }
      ]
    },
    {
      "cell_type": "code",
      "source": [
        "from nltk.corpus import stopwords\n",
        "from nltk.cluster.util import cosine_distance\n",
        "import numpy as np\n",
        "import networkx as nx\n",
        "import nltk\n",
        "nltk.download('stopwords')\n",
        "\n",
        " \n",
        "def read_article(file_name):\n",
        "    file = open(file_name, \"r\")\n",
        "    filedata = file.readlines()\n",
        "    article = filedata[0].split(\". \")\n",
        "    sentences = []\n",
        "\n",
        "    for sentence in article:\n",
        "        print(sentence)\n",
        "        sentences.append(sentence.replace(\"[^a-zA-Z]\", \" \").split(\" \"))\n",
        "    sentences.pop() \n",
        "    \n",
        "    return sentences\n",
        "\n",
        "def sentence_similarity(sent1, sent2, stopwords=None):\n",
        "    if stopwords is None:\n",
        "        stopwords = []\n",
        " \n",
        "    sent1 = [w.lower() for w in sent1]\n",
        "    sent2 = [w.lower() for w in sent2]\n",
        " \n",
        "    all_words = list(set(sent1 + sent2))\n",
        " \n",
        "    vector1 = [0] * len(all_words)\n",
        "    vector2 = [0] * len(all_words)\n",
        " \n",
        "    # build the vector for the first sentence\n",
        "    for w in sent1:\n",
        "        if w in stopwords:\n",
        "            continue\n",
        "        vector1[all_words.index(w)] += 1\n",
        " \n",
        "    # build the vector for the second sentence\n",
        "    for w in sent2:\n",
        "        if w in stopwords:\n",
        "            continue\n",
        "        vector2[all_words.index(w)] += 1\n",
        " \n",
        "    return 1 - cosine_distance(vector1, vector2)\n",
        " \n",
        "def build_similarity_matrix(sentences, stop_words):\n",
        "    # Create an empty similarity matrix\n",
        "    similarity_matrix = np.zeros((len(sentences), len(sentences)))\n",
        " \n",
        "    for idx1 in range(len(sentences)):\n",
        "        for idx2 in range(len(sentences)):\n",
        "            if idx1 == idx2: #ignore if both are same sentences\n",
        "                continue \n",
        "            similarity_matrix[idx1][idx2] = sentence_similarity(sentences[idx1], sentences[idx2], stop_words)\n",
        "\n",
        "    return similarity_matrix\n",
        "\n",
        "\n",
        "def generate_summary(file_name, top_n=5):\n",
        "    stop_words = stopwords.words('english')\n",
        "    summarize_text = []\n",
        "\n",
        "    # Step 1 - Read text and split it\n",
        "    sentences =  read_article(file_name)\n",
        "\n",
        "    # Step 2 - Generate Similary Martix across sentences\n",
        "    sentence_similarity_martix = build_similarity_matrix(sentences, stop_words)\n",
        "\n",
        "    # Step 3 - Rank sentences in similarity martix\n",
        "    sentence_similarity_graph = nx.from_numpy_array(sentence_similarity_martix)\n",
        "    scores = nx.pagerank(sentence_similarity_graph)\n",
        "\n",
        "    # Step 4 - Sort the rank and pick top sentences\n",
        "    ranked_sentence = sorted(((scores[i],s) for i,s in enumerate(sentences)), reverse=True)    \n",
        "    print(\"Indexes of top ranked_sentence order are \", ranked_sentence)    \n",
        "\n",
        "    for i in range(top_n):\n",
        "      summarize_text.append(\" \".join(ranked_sentence[i][1]))\n",
        "\n",
        "    # Step 5 - Offcourse, output the summarize texr\n",
        "    print(\"Summarize Text: \\n\", \". \".join(summarize_text))\n",
        "\n"
      ],
      "metadata": {
        "colab": {
          "base_uri": "https://localhost:8080/"
        },
        "id": "M6xB9-3lN3Wh",
        "outputId": "b015406a-cd69-4f99-8231-8bc851ab383d"
      },
      "execution_count": 4,
      "outputs": [
        {
          "output_type": "stream",
          "name": "stderr",
          "text": [
            "[nltk_data] Downloading package stopwords to /root/nltk_data...\n",
            "[nltk_data]   Package stopwords is already up-to-date!\n"
          ]
        }
      ]
    },
    {
      "cell_type": "code",
      "source": [
        "generate_summary(\"text1.txt\")\n"
      ],
      "metadata": {
        "id": "1_uGI1Z3MU6U",
        "colab": {
          "base_uri": "https://localhost:8080/"
        },
        "outputId": "966ab2d5-9039-4630-fc2d-bc3baba2cccf"
      },
      "execution_count": 3,
      "outputs": [
        {
          "output_type": "stream",
          "name": "stdout",
          "text": [
            "\"Ninnu Kori\" is a 2017 Telugu romantic drama film directed by debutante Shiva Nirvana and produced by DVV Danayya under DVV Entertainments\n",
            "The film features Nani, Nivetha Thomas, and Aadhi Pinisetty in lead roles.The story revolves around Uma (Nivetha Thomas) and Arun (Aadhi Pinisetty), a couple deeply in love with each other\n",
            "However, due to unforeseen circumstances, Uma gets married to someone else\n",
            "Years later, she meets Arun again, who is now living in San Francisco\n",
            "Meanwhile, Uma's husband, Pallavi (Nani), starts developing feelings for her and tries to win her over.The film beautifully captures the complexities of love, relationships, and the choices we make in life\n",
            "The performances of Nani, Nivetha Thomas, and Aadhi Pinisetty are top-notch, and they bring depth and emotion to their respective characters\n",
            "The music composed by Gopi Sunder is soulful and complements the film's tone and mood.Overall, \"Ninnu Kori\" is a heart-warming and poignant love story that tugs at your heartstrings and leaves you with a sense of hope and longing.\n",
            "Indexes of top ranked_sentence order are  [(0.42533905657195015, ['The', 'film', 'features', 'Nani,', 'Nivetha', 'Thomas,', 'and', 'Aadhi', 'Pinisetty', 'in', 'lead', 'roles.The', 'story', 'revolves', 'around', 'Uma', '(Nivetha', 'Thomas)', 'and', 'Arun', '(Aadhi', 'Pinisetty),', 'a', 'couple', 'deeply', 'in', 'love', 'with', 'each', 'other']), (0.22651281362538214, ['The', 'performances', 'of', 'Nani,', 'Nivetha', 'Thomas,', 'and', 'Aadhi', 'Pinisetty', 'are', 'top-notch,', 'and', 'they', 'bring', 'depth', 'and', 'emotion', 'to', 'their', 'respective', 'characters']), (0.10210721048537524, ['\"Ninnu', 'Kori\"', 'is', 'a', '2017', 'Telugu', 'romantic', 'drama', 'film', 'directed', 'by', 'debutante', 'Shiva', 'Nirvana', 'and', 'produced', 'by', 'DVV', 'Danayya', 'under', 'DVV', 'Entertainments']), (0.10014317143910825, ['Meanwhile,', \"Uma's\", 'husband,', 'Pallavi', '(Nani),', 'starts', 'developing', 'feelings', 'for', 'her', 'and', 'tries', 'to', 'win', 'her', 'over.The', 'film', 'beautifully', 'captures', 'the', 'complexities', 'of', 'love,', 'relationships,', 'and', 'the', 'choices', 'we', 'make', 'in', 'life']), (0.07436035700147516, ['Years', 'later,', 'she', 'meets', 'Arun', 'again,', 'who', 'is', 'now', 'living', 'in', 'San', 'Francisco']), (0.07153739087670927, ['However,', 'due', 'to', 'unforeseen', 'circumstances,', 'Uma', 'gets', 'married', 'to', 'someone', 'else'])]\n",
            "Summarize Text: \n",
            " The film features Nani, Nivetha Thomas, and Aadhi Pinisetty in lead roles.The story revolves around Uma (Nivetha Thomas) and Arun (Aadhi Pinisetty), a couple deeply in love with each other. The performances of Nani, Nivetha Thomas, and Aadhi Pinisetty are top-notch, and they bring depth and emotion to their respective characters. \"Ninnu Kori\" is a 2017 Telugu romantic drama film directed by debutante Shiva Nirvana and produced by DVV Danayya under DVV Entertainments. Meanwhile, Uma's husband, Pallavi (Nani), starts developing feelings for her and tries to win her over.The film beautifully captures the complexities of love, relationships, and the choices we make in life. Years later, she meets Arun again, who is now living in San Francisco\n"
          ]
        }
      ]
    },
    {
      "cell_type": "code",
      "source": [],
      "metadata": {
        "id": "W9W_CoRIP0-Q"
      },
      "execution_count": null,
      "outputs": []
    }
  ]
}